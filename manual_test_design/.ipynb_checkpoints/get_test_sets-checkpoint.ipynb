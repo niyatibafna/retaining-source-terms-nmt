{
 "cells": [
  {
   "cell_type": "code",
   "execution_count": 2,
   "id": "hindu-commodity",
   "metadata": {},
   "outputs": [],
   "source": [
    "import random\n",
    "import re\n"
   ]
  },
  {
   "cell_type": "code",
   "execution_count": null,
   "id": "burning-medline",
   "metadata": {},
   "outputs": [],
   "source": []
  },
  {
   "cell_type": "code",
   "execution_count": null,
   "id": "about-yugoslavia",
   "metadata": {},
   "outputs": [],
   "source": []
  },
  {
   "cell_type": "code",
   "execution_count": 3,
   "id": "floral-rebecca",
   "metadata": {},
   "outputs": [],
   "source": [
    "def remove_tags(sent):\n",
    "    sent = sent.replace(\"<REW> \", \"\")\n",
    "    sent = sent.replace(\" </REW>\", \"\")\n",
    "    return sent"
   ]
  },
  {
   "cell_type": "code",
   "execution_count": 20,
   "id": "animated-nicholas",
   "metadata": {},
   "outputs": [],
   "source": [
    "#WITH SAME NUMBER OF ENGLISH WORDS\n",
    "def extract_set1(gold_hin, pred_hin_base, pred_hin_tag, size):\n",
    "    gold_set, base_set, tag_set = [], [], []\n",
    "    \n",
    "    while(len(set(gold_set))<size):\n",
    "        index = random.randint(0,len(gold_hin)-1)\n",
    "        g = remove_tags(gold_hin[index])\n",
    "        b = pred_hin_base[index]\n",
    "        t = remove_tags(pred_hin_tag[index])\n",
    "        if(g in set(gold_set)):\n",
    "            continue\n",
    "        if(b!=t and len(b.split())>=10 and len(t.split())>=10):\n",
    "            eng_b = len(re.findall(\" [a-zA-Z]* \", b))\n",
    "            eng_t = len(re.findall(\" [a-zA-Z]* \", t))\n",
    "            if(eng_b==eng_t and set(re.findall(\" [a-zA-Z]* \", b))!= set(re.findall(\" [a-zA-Z]* \", t))):\n",
    "                print(g)                \n",
    "                approve = input()\n",
    "                if int(approve)==1:\n",
    "                    gold_set.append(g)\n",
    "                    base_set.append(b)\n",
    "                    tag_set.append(t)\n",
    "                    gold_hin.pop(index)\n",
    "                    pred_hin_base.pop(index)\n",
    "                    pred_hin_tag.pop(index)\n",
    "    \n",
    "    return gold_set, base_set, tag_set\n"
   ]
  },
  {
   "cell_type": "code",
   "execution_count": 21,
   "id": "secondary-payday",
   "metadata": {},
   "outputs": [],
   "source": [
    "#WITH SAME SET OF ENGLISH WORDS\n",
    "def extract_set2(gold_hin, pred_hin_base, pred_hin_tag, size):\n",
    "    gold_set, base_set, tag_set = [], [], []\n",
    "    \n",
    "    while(len(set(gold_set))<size):\n",
    "        index = random.randint(0,len(gold_hin)-1)\n",
    "        g = remove_tags(gold_hin[index])\n",
    "        b = pred_hin_base[index]\n",
    "        t = remove_tags(pred_hin_tag[index])\n",
    "        if(g in set(gold_set)):\n",
    "            continue\n",
    "        if(b!=t and len(b.split())>=10 and len(t.split())>=10):\n",
    "            eng_b = len(re.findall(\" [a-zA-Z]* \", b))\n",
    "            eng_t = len(re.findall(\" [a-zA-Z]* \", t))\n",
    "            if(eng_b==eng_t and set(re.findall(\" [a-zA-Z]* \", b))== set(re.findall(\" [a-zA-Z]* \", t))):\n",
    "                print(g)                \n",
    "                approve = input()\n",
    "                if int(approve)==1:\n",
    "                    gold_set.append(g)\n",
    "                    base_set.append(b)\n",
    "                    tag_set.append(t)\n",
    "                    gold_hin.pop(index)\n",
    "                    pred_hin_base.pop(index)\n",
    "                    pred_hin_tag.pop(index)\n",
    "    \n",
    "    return gold_set, base_set, tag_set\n",
    "\n"
   ]
  },
  {
   "cell_type": "code",
   "execution_count": 22,
   "id": "wrong-formation",
   "metadata": {},
   "outputs": [],
   "source": [
    "#RANDOM\n",
    "def extract_set3(gold_hin, pred_hin_base, pred_hin_tag, size):\n",
    "    gold_set, base_set, tag_set = [], [], []\n",
    "    \n",
    "    while(len(set(gold_set))<size):\n",
    "        index = random.randint(0,len(gold_hin)-1)\n",
    "        g = remove_tags(gold_hin[index])\n",
    "        b = pred_hin_base[index]\n",
    "        t = remove_tags(pred_hin_tag[index])\n",
    "        if(g in set(gold_set)):\n",
    "            continue\n",
    "        if(b!=t and len(b.split())>=10 and len(t.split())>=10):\n",
    "            eng_b = len(re.findall(\" [a-zA-Z]* \", b))\n",
    "            eng_t = len(re.findall(\" [a-zA-Z]* \", t))\n",
    "            if(eng_b!=eng_t):\n",
    "                print(g)\n",
    "                approve = input()\n",
    "                if int(approve)==1:\n",
    "                    gold_set.append(g)\n",
    "                    base_set.append(b)\n",
    "                    tag_set.append(t)\n",
    "                    gold_hin.pop(index)\n",
    "                    pred_hin_base.pop(index)\n",
    "                    pred_hin_tag.pop(index)\n",
    "    \n",
    "    return gold_set, base_set, tag_set\n",
    "\n",
    "\n",
    "\n",
    "\n"
   ]
  },
  {
   "cell_type": "code",
   "execution_count": 7,
   "id": "focal-hampton",
   "metadata": {},
   "outputs": [],
   "source": [
    "unseen_gold_hin = open(\"../test_outputs/tagged/test.unseen.en\", \"r\").read().strip().split(\"\\n\")\n",
    "unseen_pred_hin_tagged = open(\"../test_outputs/tagged/test.unseen.out\", \"r\").read().strip().split(\"\\n\")\n",
    "unseen_pred_hin_baseline = open(\"../test_outputs/baseline/test.unseen.out\", \"r\").read().strip().split(\"\\n\")\n",
    "\n",
    "seen_gold_hin = open(\"../test_outputs/tagged/test.seen.en\", \"r\").read().strip().split(\"\\n\")\n",
    "seen_pred_hin_tagged = open(\"../test_outputs/tagged/test.seen.out\", \"r\").read().strip().split(\"\\n\")\n",
    "seen_pred_hin_baseline = open(\"../test_outputs/baseline/test.seen.out\", \"r\").read().strip().split(\"\\n\")"
   ]
  },
  {
   "cell_type": "code",
   "execution_count": 8,
   "id": "advised-processor",
   "metadata": {},
   "outputs": [],
   "source": [
    "t_1_seen = extract_set1(seen_gold_hin, seen_pred_hin_baseline, seen_pred_hin_tagged, 5)\n",
    "t_2_seen = extract_set2(seen_gold_hin, seen_pred_hin_baseline, seen_pred_hin_tagged, 5)\n",
    "t_3_seen = extract_set3(seen_gold_hin, seen_pred_hin_baseline, seen_pred_hin_tagged, 3)\n",
    "    \n",
    "t_1_unseen = extract_set1(unseen_gold_hin, unseen_pred_hin_baseline, unseen_pred_hin_tagged, 5)\n",
    "t_2_unseen = extract_set2(unseen_gold_hin, unseen_pred_hin_baseline, unseen_pred_hin_tagged, 5)\n",
    "t_3_unseen = extract_set3(unseen_gold_hin, unseen_pred_hin_baseline, unseen_pred_hin_tagged, 3)\n",
    "\n"
   ]
  },
  {
   "cell_type": "code",
   "execution_count": 57,
   "id": "interpreted-airport",
   "metadata": {},
   "outputs": [],
   "source": [
    "all_sets = {\"t_1_seen\": t_1_seen, \"t_2_seen\":t_2_seen, \"t_3_seen\":t_3_seen, \n",
    "            \"t_1_unseen\":t_1_unseen, \"t_2_unseen\":t_2_unseen, \"t_3_unseen\":t_3_unseen}\n",
    "\n",
    "for name, test_set in all_sets.items():\n",
    "    new_file = open(name, \"w\")\n",
    "    [g, b, t] = test_set\n",
    "    assert(len(g)==len(b) and len(b)==len(t))\n",
    "    for i in range(len(g)):\n",
    "        print(g[i]+\"\\t\"+b[i]+\"\\t\"+t[i], file=new_file)\n",
    "    new_file.close()\n",
    "    "
   ]
  },
  {
   "cell_type": "code",
   "execution_count": 14,
   "id": "stainless-joining",
   "metadata": {},
   "outputs": [],
   "source": [
    "all_sets = {\"t_1_seen\": t_1_seen, \"t_2_seen\":t_2_seen, \"t_3_seen\":t_3_seen, \n",
    "            \"t_1_unseen\":t_1_unseen, \"t_2_unseen\":t_2_unseen, \"t_3_unseen\":t_3_unseen}\n",
    "\n",
    "all_test_sent = []\n",
    "for name, test_set in all_sets.items():\n",
    "    [g, b, t] = test_set\n",
    "    assert(len(g)==len(b) and len(b)==len(t))\n",
    "    for i in range(len(g)):\n",
    "        source = g[i]\n",
    "        base_idx = random.randint(0,1)\n",
    "        if base_idx==0:\n",
    "            sent1 = b[i]\n",
    "            sent2 = t[i]\n",
    "        else:\n",
    "            sent1 = t[i]\n",
    "            sent2 = b[i]\n",
    "        base_pos = \"base_first\" if base_idx == 0 else \"base_last\"\n",
    "        seen = name.split(\"_\")[2]\n",
    "        test_suite = int(name.split(\"_\")[1])\n",
    "        \n",
    "        instance = (source, sent1, sent2, base_pos, seen, test_suite)\n",
    "        all_test_sent.append(instance)\n",
    "        \n",
    "    "
   ]
  },
  {
   "cell_type": "code",
   "execution_count": 17,
   "id": "compound-ontario",
   "metadata": {},
   "outputs": [],
   "source": [
    "all_sets = {\"t_1_seen\": t_1_seen, \"t_2_seen\":t_2_seen, \"t_3_seen\":t_3_seen, \n",
    "            \"t_1_unseen\":t_1_unseen, \"t_2_unseen\":t_2_unseen, \"t_3_unseen\":t_3_unseen}\n",
    "\n",
    "for name, test_set in all_sets.items():\n",
    "    new_file = open(name, \"w\")\n",
    "    [g, b, t] = test_set\n",
    "    assert(len(g)==len(b) and len(b)==len(t))\n",
    "    for i in range(len(g)):\n",
    "        print(g[i]+\"\\t\"+b[i]+\"\\t\"+t[i], file=new_file)\n",
    "    new_file.close()\n",
    "    \n",
    "\n",
    "    "
   ]
  },
  {
   "cell_type": "code",
   "execution_count": null,
   "id": "arabic-belfast",
   "metadata": {},
   "outputs": [],
   "source": [
    "random.shuffle(all_test_sent)"
   ]
  },
  {
   "cell_type": "code",
   "execution_count": 19,
   "id": "thermal-corpus",
   "metadata": {},
   "outputs": [],
   "source": [
    "reader = open(\"test_reader\", \"w\")\n",
    "sent_tags = open(\"test_sentence_info\", \"w\")\n",
    "for instance in all_test_sent:\n",
    "    print(instance[0]+\"\\n\"+instance[1]+\"\\n\"+instance[2]+\"\\n\", file = reader)\n",
    "    print(instance[3]+\"\\t\"+instance[4]+\"\\t\"+str(instance[5]), file = sent_tags)\n",
    "reader.close()\n",
    "sent_tags.close()"
   ]
  },
  {
   "cell_type": "code",
   "execution_count": null,
   "id": "median-tampa",
   "metadata": {},
   "outputs": [],
   "source": []
  },
  {
   "cell_type": "code",
   "execution_count": null,
   "id": "gothic-techno",
   "metadata": {},
   "outputs": [],
   "source": []
  },
  {
   "cell_type": "code",
   "execution_count": 9,
   "id": "swedish-engineering",
   "metadata": {},
   "outputs": [],
   "source": [
    "[a, b, c] = t_3_unseen"
   ]
  },
  {
   "cell_type": "code",
   "execution_count": 10,
   "id": "cheap-luther",
   "metadata": {},
   "outputs": [
    {
     "name": "stdout",
     "output_type": "stream",
     "text": [
      "GOLD :  settings for input , demultiplexing , decoding and encoding\n",
      "BASE :  input के लिए settings , demultipleing , decoding औरencoding के लिए\n",
      "TAG :  input , दिफूक्स , decoding और encoding के लिए settings\n",
      "\n",
      "\n",
      "\n",
      "\n",
      "GOLD :  horizontal adjustment that is shared between the scrollable widget and its controller\n",
      "BASE :  क्षैतिज समायोजन जो स्क्रॉल करने योग्य विज़ेट और इसके नियंत्रक के बीच साझा किया गया है\n",
      "TAG :  क्षैतिज समायोजन जो स्क्रॉल योग्य widget और इसके नियंत्रक के बीच साझा किया जाता है\n",
      "\n",
      "\n",
      "\n",
      "\n",
      "GOLD :  note : to ensure that all keyboard shortcuts are available , you can configure chromoting to ‘ open as window ' .\n",
      "BASE :  note : सभी कुंजीपट शॉर्टकट उपलब्ध हैं , आप window के रूप में खोलने के लिए chromoting को विन्यस्त कर सकते हैं .\n",
      "TAG :  ध्यान दें : यह सुनिश्चित करने के लिए कि सभी keyboard शॉर्टकट उपलब्ध हैं , आप window के open रूप में ‘ chromoting को विन्यस्त कर सकते हैं .\n",
      "\n",
      "\n",
      "\n",
      "\n"
     ]
    }
   ],
   "source": [
    "for i in range(len(a)):\n",
    "    print(\"GOLD : \", a[i])\n",
    "    print(\"BASE : \", b[i])\n",
    "    print(\"TAG : \", c[i])\n",
    "    print(\"\\n\\n\\n\")"
   ]
  },
  {
   "cell_type": "code",
   "execution_count": null,
   "id": "differential-disco",
   "metadata": {},
   "outputs": [],
   "source": []
  }
 ],
 "metadata": {
  "kernelspec": {
   "display_name": "Python 3",
   "language": "python",
   "name": "python3"
  },
  "language_info": {
   "codemirror_mode": {
    "name": "ipython",
    "version": 3
   },
   "file_extension": ".py",
   "mimetype": "text/x-python",
   "name": "python",
   "nbconvert_exporter": "python",
   "pygments_lexer": "ipython3",
   "version": "3.7.10"
  }
 },
 "nbformat": 4,
 "nbformat_minor": 5
}
