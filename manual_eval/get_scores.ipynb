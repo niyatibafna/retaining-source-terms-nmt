{
 "cells": [
  {
   "cell_type": "code",
   "execution_count": null,
   "id": "nervous-creator",
   "metadata": {},
   "outputs": [],
   "source": []
  },
  {
   "cell_type": "code",
   "execution_count": null,
   "id": "cardiac-worst",
   "metadata": {},
   "outputs": [],
   "source": []
  },
  {
   "cell_type": "code",
   "execution_count": null,
   "id": "filled-payday",
   "metadata": {},
   "outputs": [],
   "source": [
    "judge = open(\"judgment\",\"r\").read().strip().split(\"\\n\")\n",
    "sent_tags = open(\"../manual_test_design/test_sentence_info\",\"r\").read().strip().split(\"\\n\")\n",
    "for idx in len(range(sent_tags)):\n",
    "    sent_tags[idx]= sent_tags[idx].split(\"\\t\")\n",
    "assert(len(judge)==len(sent_tags))"
   ]
  },
  {
   "cell_type": "code",
   "execution_count": 3,
   "id": "fabulous-scanning",
   "metadata": {},
   "outputs": [],
   "source": [
    "scores = {}\n",
    "for x in [\"seen\", \"unseen\"]:\n",
    "    scores[x]={}\n",
    "    for y in [1,2,3]:\n",
    "        scores[x][y]={}\n",
    "        for z in [\"baseline\", \"tagged\", \"equal\"]:\n",
    "            scores[x][y][z]=0"
   ]
  },
  {
   "cell_type": "code",
   "execution_count": 4,
   "id": "ranking-buffalo",
   "metadata": {},
   "outputs": [
    {
     "data": {
      "text/plain": [
       "{'seen': {1: {'baseline': 0, 'tagged': 0, 'equal': 0},\n",
       "  2: {'baseline': 0, 'tagged': 0, 'equal': 0},\n",
       "  3: {'baseline': 0, 'tagged': 0, 'equal': 0}},\n",
       " 'unseen': {1: {'baseline': 0, 'tagged': 0, 'equal': 0},\n",
       "  2: {'baseline': 0, 'tagged': 0, 'equal': 0},\n",
       "  3: {'baseline': 0, 'tagged': 0, 'equal': 0}}}"
      ]
     },
     "execution_count": 4,
     "metadata": {},
     "output_type": "execute_result"
    }
   ],
   "source": [
    "scores"
   ]
  },
  {
   "cell_type": "code",
   "execution_count": null,
   "id": "statewide-campaign",
   "metadata": {},
   "outputs": [],
   "source": [
    "for idx in range(len(judge)):\n",
    "    base = sent_tags[idx][0]\n",
    "    seen = sent_tags[idx][1]\n",
    "    suite = sent_tags[idx][2]\n",
    "    \n",
    "    if judge[idx]==3:\n",
    "        scores[seen][suite][\"equal\"]+=1\n",
    "    if judge[idx]==1:\n",
    "        if base == \"base_first\":\n",
    "            scores[seen][suite][\"baseline\"]+=1\n",
    "        else:\n",
    "            scores[seen][suite][\"tagged\"]+=1\n",
    "    if judge[idx]==2:\n",
    "        if base == \"base_last\":\n",
    "            scores[seen][suite][\"baseline\"]+=1\n",
    "        else:\n",
    "            scores[seen][suite][\"tagged\"]+=1\n",
    "        "
   ]
  },
  {
   "cell_type": "code",
   "execution_count": null,
   "id": "white-origin",
   "metadata": {},
   "outputs": [],
   "source": []
  }
 ],
 "metadata": {
  "kernelspec": {
   "display_name": "Python 3",
   "language": "python",
   "name": "python3"
  },
  "language_info": {
   "codemirror_mode": {
    "name": "ipython",
    "version": 3
   },
   "file_extension": ".py",
   "mimetype": "text/x-python",
   "name": "python",
   "nbconvert_exporter": "python",
   "pygments_lexer": "ipython3",
   "version": "3.7.10"
  }
 },
 "nbformat": 4,
 "nbformat_minor": 5
}
