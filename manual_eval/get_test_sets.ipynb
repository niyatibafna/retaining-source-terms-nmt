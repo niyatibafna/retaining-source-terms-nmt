{
 "cells": [
  {
   "cell_type": "code",
   "execution_count": 10,
   "id": "hindu-commodity",
   "metadata": {},
   "outputs": [],
   "source": [
    "import random\n",
    "import re\n"
   ]
  },
  {
   "cell_type": "code",
   "execution_count": null,
   "id": "burning-medline",
   "metadata": {},
   "outputs": [],
   "source": []
  },
  {
   "cell_type": "code",
   "execution_count": null,
   "id": "about-yugoslavia",
   "metadata": {},
   "outputs": [],
   "source": []
  },
  {
   "cell_type": "code",
   "execution_count": 11,
   "id": "floral-rebecca",
   "metadata": {},
   "outputs": [],
   "source": [
    "def remove_tags(sent):\n",
    "    sent = sent.replace(\"<REW> \", \"\")\n",
    "    sent = sent.replace(\" </REW>\", \"\")\n",
    "    return sent"
   ]
  },
  {
   "cell_type": "code",
   "execution_count": 41,
   "id": "animated-nicholas",
   "metadata": {},
   "outputs": [],
   "source": [
    "#WITH SAME NUMBER OF ENGLISH WORDS\n",
    "def extract_set1(gold_hin, pred_hin_base, pred_hin_tag, size):\n",
    "    gold_set, base_set, tag_set = [], [], []\n",
    "    \n",
    "    while(len(set(gold_set))<size):\n",
    "        index = random.randint(0,len(gold_hin)-1)\n",
    "        g = remove_tags(gold_hin[index])\n",
    "        b = pred_hin_base[index]\n",
    "        t = remove_tags(pred_hin_tag[index])\n",
    "        if(g in set(gold_set)):\n",
    "            continue\n",
    "        if(b!=t and len(b.split())>=10 and len(t.split())>=10):\n",
    "            eng_b = len(re.findall(\" [a-zA-Z]* \", b))\n",
    "            eng_t = len(re.findall(\" [a-zA-Z]* \", t))\n",
    "            if(eng_b==eng_t and set(re.findall(\" [a-zA-Z]* \", b))!= set(re.findall(\" [a-zA-Z]* \", t))):\n",
    "                gold_set.append(g)\n",
    "                base_set.append(b)\n",
    "                tag_set.append(t)\n",
    "                gold_hin.pop(index)\n",
    "                pred_hin_base.pop(index)\n",
    "                pred_hin_tag.pop(index)\n",
    "    \n",
    "    return gold_set, base_set, tag_set\n"
   ]
  },
  {
   "cell_type": "code",
   "execution_count": 42,
   "id": "secondary-payday",
   "metadata": {},
   "outputs": [],
   "source": [
    "#WITH SAME SET OF ENGLISH WORDS\n",
    "def extract_set2(gold_hin, pred_hin_base, pred_hin_tag, size):\n",
    "    gold_set, base_set, tag_set = [], [], []\n",
    "    \n",
    "    while(len(set(gold_set))<size):\n",
    "        index = random.randint(0,len(gold_hin)-1)\n",
    "        g = remove_tags(gold_hin[index])\n",
    "        b = pred_hin_base[index]\n",
    "        t = remove_tags(pred_hin_tag[index])\n",
    "        if(g in set(gold_set)):\n",
    "            continue\n",
    "        if(b!=t and len(b.split())>=10 and len(t.split())>=10):\n",
    "            eng_b = len(re.findall(\" [a-zA-Z]* \", b))\n",
    "            eng_t = len(re.findall(\" [a-zA-Z]* \", t))\n",
    "            if(eng_b==eng_t and set(re.findall(\" [a-zA-Z]* \", b))== set(re.findall(\" [a-zA-Z]* \", t))):\n",
    "                gold_set.append(g)\n",
    "                base_set.append(b)\n",
    "                tag_set.append(t)\n",
    "                gold_hin.pop(index)\n",
    "                pred_hin_base.pop(index)\n",
    "                pred_hin_tag.pop(index)\n",
    "    \n",
    "    return gold_set, base_set, tag_set\n",
    "\n"
   ]
  },
  {
   "cell_type": "code",
   "execution_count": 43,
   "id": "wrong-formation",
   "metadata": {},
   "outputs": [],
   "source": [
    "#RANDOM\n",
    "def extract_set3(gold_hin, pred_hin_base, pred_hin_tag, size):\n",
    "    gold_set, base_set, tag_set = [], [], []\n",
    "    \n",
    "    while(len(set(gold_set))<size):\n",
    "        index = random.randint(0,len(gold_hin)-1)\n",
    "        g = remove_tags(gold_hin[index])\n",
    "        b = pred_hin_base[index]\n",
    "        t = remove_tags(pred_hin_tag[index])\n",
    "        if(g in set(gold_set)):\n",
    "            continue\n",
    "        if(b!=t and len(b.split())>=10 and len(t.split())>=10):\n",
    "            eng_b = len(re.findall(\" [a-zA-Z]* \", b))\n",
    "            eng_t = len(re.findall(\" [a-zA-Z]* \", t))\n",
    "            if(eng_b!=eng_t):\n",
    "                gold_set.append(g)\n",
    "                base_set.append(b)\n",
    "                tag_set.append(t)\n",
    "                gold_hin.pop(index)\n",
    "                pred_hin_base.pop(index)\n",
    "                pred_hin_tag.pop(index)\n",
    "    \n",
    "    return gold_set, base_set, tag_set\n",
    "\n",
    "\n",
    "\n",
    "\n"
   ]
  },
  {
   "cell_type": "code",
   "execution_count": 44,
   "id": "focal-hampton",
   "metadata": {},
   "outputs": [],
   "source": [
    "unseen_gold_hin = open(\"../test_outputs/tagged/test.unseen.hindi\", \"r\").read().strip().split(\"\\n\")\n",
    "unseen_pred_hin_tagged = open(\"../test_outputs/tagged/test.unseen.out\", \"r\").read().strip().split(\"\\n\")\n",
    "unseen_pred_hin_baseline = open(\"../test_outputs/baseline/test.unseen.out\", \"r\").read().strip().split(\"\\n\")\n",
    "\n",
    "seen_gold_hin = open(\"../test_outputs/tagged/test.seen.hindi\", \"r\").read().strip().split(\"\\n\")\n",
    "seen_pred_hin_tagged = open(\"../test_outputs/tagged/test.seen.out\", \"r\").read().strip().split(\"\\n\")\n",
    "seen_pred_hin_baseline = open(\"../test_outputs/baseline/test.seen.out\", \"r\").read().strip().split(\"\\n\")"
   ]
  },
  {
   "cell_type": "code",
   "execution_count": 45,
   "id": "advised-processor",
   "metadata": {},
   "outputs": [],
   "source": [
    "t_1_seen = extract_set1(seen_gold_hin, seen_pred_hin_baseline, seen_pred_hin_tagged, 10)\n",
    "t_2_seen = extract_set2(seen_gold_hin, seen_pred_hin_baseline, seen_pred_hin_tagged, 10)\n",
    "t_3_seen = extract_set3(seen_gold_hin, seen_pred_hin_baseline, seen_pred_hin_tagged, 5)\n",
    "    \n",
    "t_1_unseen = extract_set1(unseen_gold_hin, unseen_pred_hin_baseline, unseen_pred_hin_tagged, 10)\n",
    "t_2_unseen = extract_set2(unseen_gold_hin, unseen_pred_hin_baseline, unseen_pred_hin_tagged, 10)\n",
    "t_3_unseen = extract_set3(unseen_gold_hin, unseen_pred_hin_baseline, unseen_pred_hin_tagged, 5)\n",
    "\n"
   ]
  },
  {
   "cell_type": "code",
   "execution_count": 57,
   "id": "interpreted-airport",
   "metadata": {},
   "outputs": [],
   "source": [
    "all_sets = {\"t_1_seen\": t_1_seen, \"t_2_seen\":t_2_seen, \"t_3_seen\":t_3_seen, \n",
    "            \"t_1_unseen\":t_1_unseen, \"t_2_unseen\":t_2_unseen, \"t_3_unseen\":t_3_unseen}\n",
    "\n",
    "for name, test_set in all_sets.items():\n",
    "    new_file = open(name, \"w\")\n",
    "    [g, b, t] = test_set\n",
    "    assert(len(g)==len(b) and len(b)==len(t))\n",
    "    for i in range(len(g)):\n",
    "        print(g[i]+\"\\t\"+b[i]+\"\\t\"+t[i], file=new_file)\n",
    "    new_file.close()\n",
    "    "
   ]
  },
  {
   "cell_type": "code",
   "execution_count": 53,
   "id": "swedish-engineering",
   "metadata": {},
   "outputs": [],
   "source": [
    "[a, b, c] = t_3_unseen"
   ]
  },
  {
   "cell_type": "code",
   "execution_count": 54,
   "id": "cheap-luther",
   "metadata": {},
   "outputs": [
    {
     "name": "stdout",
     "output_type": "stream",
     "text": [
      "GOLD :  f7 दबाकर caret पर ब्राउज़िंग या बंद हो जाता है . इस सुविधा के वेब पन्नों में एक जंगम cursor देता है , आप अपने keyboard के साथ चारों ओर ले जाने के लिए अनुमति देता है . caret पर ब्राउज़िंग सक्षम करना चाहते हैं ?\n",
      "BASE :  f7 बार caret ब्राउज़िंग ठीक से या बंद किया जा रहा है . यह सुविधा वेब पृष्ठों में एक खिसकाने योग्य cursor स्थान , आप अपने कुंजीपट पर घूमने की अनुमति देते हैं . क्या आप caret ब्राउज़िंग सक्षम करना चाहते हैं ?\n",
      "TAG :  वेब पृष्ठों में cursor को चुनने या बंद करने के लिए एफ7 caret ब्राउज़िंग दबाता है . यह लक्षण आपको अपने keyboard में ही स्थानांतरित करने की अनुमति देता है . क्या आप caret ब्राउज़िंग सक्षम करना चाहते हैं ?\n",
      "\n",
      "\n",
      "\n",
      "\n",
      "GOLD :  इस पहल का सकारात्मक पक्ष लोकतन्त्र को आगे बढाना है . ऐतिहासिक आंकङे इस बात की पुष्टि करते हैं कि लोकतान्त्रिक देश आपस में युद्ध नहीं करते और सम्पन्न रहते हैं . इसलिये मध्यपूर्व के रोग निवारण के लिये इन डाक्टरों की नजर में चुनाव औषधि है . परन्तु इस समस्याग्रस्त क्षेत्र में यह मिश्रण असफल रहा . palestinian authority में सम्पन्न प्रथम चुनाव में hamas को सत्ता प्राप्त हो गई . december 2005 में मिस्र के मतदाताओं ने उदारवादी तत्वों के स्थान पर कट्टरपंथी muslim ब्रदरहुड का समर्थन किया था . iraq में भी सद्दाम हुसैन के पश्चात मतदाताओं\n",
      "BASE :  तेहरान के अनुसार मिस्र का चुनाव दिसंबर 2005 में फिलीस्तीन authority में किया गया।\n",
      "TAG :  परंतु इस प्रकार अराजकता में घिरे लोग palestinian authority का प्रथम रणनीतिक चुनाव hamas december 2005 में मिस्र के मतदाताओं ने muslim मध्य पूर्व के चुनावों को सशक्त किया जबकि कट्टरपंथी इस्लामिक चुनावों ने iraq में कट्टरपंथी इस्लाम छोड़ दिया ।\n",
      "\n",
      "\n",
      "\n",
      "\n",
      "GOLD :  मगर esperanto समुदाय भाषा को एक अत्यावष्यक और इनरन्तर धन के रूप में देखती है .\n",
      "BASE :  फिर भी भाषा समुदायों की विविधता निरंतर तथा संपन्नता के लिए अनिवार्य है .\n",
      "TAG :  फिर भी esperanto समुदाय में भाषा एक दृढ़ और शाश्वत स्त्रोत है।\n",
      "\n",
      "\n",
      "\n",
      "\n",
      "GOLD :  गत वर्ष में इस तरह के projects ने हजारों कार्य किए हैं ,\n",
      "BASE :  इन परियोजनाओं ने एक साल में हजारों क्रियाएं लीं ,\n",
      "TAG :  इन projects में एक साल में हजारों कार्य हुए ,\n",
      "\n",
      "\n",
      "\n",
      "\n",
      "GOLD :  यद्यिप esperanto , और ज़बानों की तरह ही , दोष-हीन नहीं है , पर इवश्वव्यापक समान संप्रेषण के इलए , ऎस्पॆरान्तो बाकी भाषाओं से कहीं बेहतर है .\n",
      "BASE :  भाषा किसी भी भाषा की तरह यह मुमकिन नहीं है , फिर भी यह दो कारणों से एक विश्व स्तर की संचार संचार के साधन के रूप में होता है .\n",
      "TAG :  जहां esperanto किसी भाषा की तरह , कोई भी भाषा नहीं है , वहीं दूसरी भाषाओं की तरह यह विश्व-स्तरीय संचार का एक साधन है .\n",
      "\n",
      "\n",
      "\n",
      "\n"
     ]
    }
   ],
   "source": [
    "for i in range(len(a)):\n",
    "    print(\"GOLD : \", a[i])\n",
    "    print(\"BASE : \", b[i])\n",
    "    print(\"TAG : \", c[i])\n",
    "    print(\"\\n\\n\\n\")"
   ]
  },
  {
   "cell_type": "code",
   "execution_count": null,
   "id": "differential-disco",
   "metadata": {},
   "outputs": [],
   "source": []
  }
 ],
 "metadata": {
  "kernelspec": {
   "display_name": "Python 3",
   "language": "python",
   "name": "python3"
  },
  "language_info": {
   "codemirror_mode": {
    "name": "ipython",
    "version": 3
   },
   "file_extension": ".py",
   "mimetype": "text/x-python",
   "name": "python",
   "nbconvert_exporter": "python",
   "pygments_lexer": "ipython3",
   "version": "3.8.8"
  }
 },
 "nbformat": 4,
 "nbformat_minor": 5
}
