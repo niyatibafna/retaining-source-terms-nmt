{
 "cells": [
  {
   "cell_type": "code",
   "execution_count": null,
   "id": "nervous-creator",
   "metadata": {},
   "outputs": [],
   "source": [
    "import pandas as pd"
   ]
  },
  {
   "cell_type": "code",
   "execution_count": null,
   "id": "cardiac-worst",
   "metadata": {},
   "outputs": [],
   "source": []
  },
  {
   "cell_type": "code",
   "execution_count": 2,
   "id": "filled-payday",
   "metadata": {},
   "outputs": [
    {
     "name": "stdout",
     "output_type": "stream",
     "text": [
      "[['base_first', 'unseen', '2'], ['base_first', 'seen', '1'], ['base_first', 'unseen', '1'], ['base_last', 'seen', '2'], ['base_last', 'unseen', '1'], ['base_last', 'unseen', '1'], ['base_last', 'seen', '3'], ['base_last', 'seen', '1'], ['base_first', 'seen', '3'], ['base_last', 'seen', '2'], ['base_last', 'unseen', '2'], ['base_last', 'seen', '2'], ['base_last', 'unseen', '3'], ['base_first', 'unseen', '1'], ['base_first', 'seen', '2'], ['base_last', 'unseen', '2'], ['base_first', 'seen', '1'], ['base_first', 'seen', '2'], ['base_last', 'seen', '1'], ['base_first', 'unseen', '3'], ['base_last', 'unseen', '3'], ['base_last', 'unseen', '1'], ['base_first', 'seen', '3'], ['base_last', 'seen', '1'], ['base_last', 'unseen', '2'], ['base_first', 'unseen', '2']]\n"
     ]
    }
   ],
   "source": [
    "sent_tags = open(\"../manual_test_design/test_sentence_info\",\"r\").read().strip().split(\"\\n\")\n",
    "for idx in range(len(sent_tags)):\n",
    "    sent_tags[idx]= sent_tags[idx].split(\"\\t\")\n",
    "print(sent_tags)"
   ]
  },
  {
   "cell_type": "code",
   "execution_count": 11,
   "id": "fabulous-scanning",
   "metadata": {},
   "outputs": [],
   "source": [
    "scores = {}\n",
    "for x in [\"seen\", \"unseen\"]:\n",
    "    scores[x]={}\n",
    "    for y in [1,2,3]:\n",
    "        scores[x][y]={}\n",
    "        for z in [\"baseline\", \"tagged\", \"equal\"]:\n",
    "            scores[x][y][z]=0"
   ]
  },
  {
   "cell_type": "code",
   "execution_count": 12,
   "id": "ranking-buffalo",
   "metadata": {},
   "outputs": [
    {
     "data": {
      "text/plain": [
       "{'seen': {1: {'baseline': 0, 'tagged': 0, 'equal': 0},\n",
       "  2: {'baseline': 0, 'tagged': 0, 'equal': 0},\n",
       "  3: {'baseline': 0, 'tagged': 0, 'equal': 0}},\n",
       " 'unseen': {1: {'baseline': 0, 'tagged': 0, 'equal': 0},\n",
       "  2: {'baseline': 0, 'tagged': 0, 'equal': 0},\n",
       "  3: {'baseline': 0, 'tagged': 0, 'equal': 0}}}"
      ]
     },
     "execution_count": 12,
     "metadata": {},
     "output_type": "execute_result"
    }
   ],
   "source": [
    "scores"
   ]
  },
  {
   "cell_type": "code",
   "execution_count": 13,
   "id": "statewide-campaign",
   "metadata": {},
   "outputs": [],
   "source": [
    "def add_scores(judge, sent_tags, scores):\n",
    "    \n",
    "    for idx in range(len(judge)):\n",
    "        base = sent_tags[idx][0]\n",
    "        seen = sent_tags[idx][1]\n",
    "        suite = int(sent_tags[idx][2])\n",
    "\n",
    "        if int(judge[idx])==3:\n",
    "            scores[seen][suite][\"equal\"]+=1\n",
    "        if int(judge[idx])==1:\n",
    "            if base == \"base_first\":\n",
    "                scores[seen][suite][\"baseline\"]+=1\n",
    "            else:\n",
    "                scores[seen][suite][\"tagged\"]+=1\n",
    "        if int(judge[idx])==2:\n",
    "            if base == \"base_last\":\n",
    "                scores[seen][suite][\"baseline\"]+=1\n",
    "            else:\n",
    "                scores[seen][suite][\"tagged\"]+=1\n",
    "\n",
    "    return scores\n"
   ]
  },
  {
   "cell_type": "code",
   "execution_count": 14,
   "id": "white-origin",
   "metadata": {},
   "outputs": [
    {
     "name": "stdout",
     "output_type": "stream",
     "text": [
      "['2', '3', '1', '3', '1', '1', '1', '3', '3', '3', '1', '2', '3', '3', '3', '2', '3', '3', '1', '3', '3', '3', '3', '3', '2', '3']\n",
      "{'seen': {1: {'baseline': 0, 'tagged': 1, 'equal': 4}, 2: {'baseline': 1, 'tagged': 0, 'equal': 4}, 3: {'baseline': 0, 'tagged': 1, 'equal': 2}}, 'unseen': {1: {'baseline': 1, 'tagged': 2, 'equal': 2}, 2: {'baseline': 2, 'tagged': 2, 'equal': 1}, 3: {'baseline': 0, 'tagged': 0, 'equal': 3}}}\n"
     ]
    }
   ],
   "source": [
    "judge = open(\"judgments/annotator1\",\"r\").read().strip().split(\"\\n\")\n",
    "assert(len(judge)==len(sent_tags))\n",
    "print(judge)\n",
    "scores = add_scores(judge, sent_tags, scores)\n",
    "print(scores)"
   ]
  },
  {
   "cell_type": "code",
   "execution_count": 15,
   "id": "exposed-newark",
   "metadata": {},
   "outputs": [
    {
     "name": "stdout",
     "output_type": "stream",
     "text": [
      "{'seen': {1: {'baseline': 4, 'tagged': 2, 'equal': 4}, 2: {'baseline': 3, 'tagged': 3, 'equal': 4}, 3: {'baseline': 2, 'tagged': 1, 'equal': 3}}, 'unseen': {1: {'baseline': 2, 'tagged': 5, 'equal': 3}, 2: {'baseline': 5, 'tagged': 3, 'equal': 2}, 3: {'baseline': 0, 'tagged': 2, 'equal': 4}}}\n"
     ]
    }
   ],
   "source": [
    "judge = open(\"judgments/annotator2\",\"r\").read().strip().split(\"\\n\")\n",
    "assert(len(judge)==len(sent_tags))\n",
    "scores = add_scores(judge, sent_tags, scores)\n",
    "print(scores)"
   ]
  },
  {
   "cell_type": "code",
   "execution_count": 16,
   "id": "animated-shield",
   "metadata": {},
   "outputs": [
    {
     "name": "stdout",
     "output_type": "stream",
     "text": [
      "{'seen': {1: {'baseline': 4, 'tagged': 7, 'equal': 4}, 2: {'baseline': 5, 'tagged': 4, 'equal': 6}, 3: {'baseline': 3, 'tagged': 1, 'equal': 5}}, 'unseen': {1: {'baseline': 3, 'tagged': 7, 'equal': 5}, 2: {'baseline': 8, 'tagged': 4, 'equal': 3}, 3: {'baseline': 3, 'tagged': 2, 'equal': 4}}}\n"
     ]
    }
   ],
   "source": [
    "judge = open(\"judgments/annotator3\",\"r\").read().strip().split(\"\\n\")\n",
    "assert(len(judge)==len(sent_tags))\n",
    "scores = add_scores(judge, sent_tags, scores)\n",
    "print(scores)"
   ]
  },
  {
   "cell_type": "code",
   "execution_count": 17,
   "id": "peripheral-reward",
   "metadata": {},
   "outputs": [
    {
     "ename": "NameError",
     "evalue": "name 'pd' is not defined",
     "output_type": "error",
     "traceback": [
      "\u001b[0;31m---------------------------------------------------------------------------\u001b[0m",
      "\u001b[0;31mNameError\u001b[0m                                 Traceback (most recent call last)",
      "\u001b[0;32m<ipython-input-17-7ed996dd0317>\u001b[0m in \u001b[0;36m<module>\u001b[0;34m\u001b[0m\n\u001b[0;32m----> 1\u001b[0;31m \u001b[0mdf\u001b[0m \u001b[0;34m=\u001b[0m \u001b[0mpd\u001b[0m\u001b[0;34m.\u001b[0m\u001b[0mDataFrame\u001b[0m\u001b[0;34m(\u001b[0m\u001b[0mscores\u001b[0m\u001b[0;34m[\u001b[0m\u001b[0;34m'seen'\u001b[0m\u001b[0;34m]\u001b[0m\u001b[0;34m)\u001b[0m\u001b[0;34m\u001b[0m\u001b[0;34m\u001b[0m\u001b[0m\n\u001b[0m\u001b[1;32m      2\u001b[0m \u001b[0mdf\u001b[0m\u001b[0;34m\u001b[0m\u001b[0;34m\u001b[0m\u001b[0m\n",
      "\u001b[0;31mNameError\u001b[0m: name 'pd' is not defined"
     ]
    }
   ],
   "source": [
    "df = pd.DataFrame(scores['seen'])\n",
    "df"
   ]
  },
  {
   "cell_type": "code",
   "execution_count": null,
   "id": "hollow-maker",
   "metadata": {},
   "outputs": [],
   "source": []
  }
 ],
 "metadata": {
  "kernelspec": {
   "display_name": "Python 3",
   "language": "python",
   "name": "python3"
  },
  "language_info": {
   "codemirror_mode": {
    "name": "ipython",
    "version": 3
   },
   "file_extension": ".py",
   "mimetype": "text/x-python",
   "name": "python",
   "nbconvert_exporter": "python",
   "pygments_lexer": "ipython3",
   "version": "3.8.8"
  }
 },
 "nbformat": 4,
 "nbformat_minor": 5
}
