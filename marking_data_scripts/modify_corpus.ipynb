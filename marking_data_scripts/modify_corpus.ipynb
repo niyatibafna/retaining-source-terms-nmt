{
 "cells": [
  {
   "cell_type": "code",
   "execution_count": 18,
   "id": "corresponding-happiness",
   "metadata": {},
   "outputs": [],
   "source": [
    "from indic_transliteration import sanscript\n",
    "from indic_transliteration.sanscript import SchemeMap, SCHEMES, transliterate\n",
    "import editdistance\n",
    "import matplotlib.pyplot as plt\n",
    "import copy"
   ]
  },
  {
   "cell_type": "code",
   "execution_count": 19,
   "id": "unusual-ireland",
   "metadata": {},
   "outputs": [],
   "source": [
    "def get_transliteration(s_w):\n",
    "    '''\n",
    "    Transliterates using indic_transliteration, does a little postediting\n",
    "    '''\n",
    "    trans = transliterate(s_w, sanscript.DEVANAGARI, sanscript.OPTITRANS)\n",
    "    trans = trans.rstrip('a')\n",
    "    trans = trans.replace('M','n')\n",
    "    trans = trans.replace('A', 'aa')\n",
    "    trans = trans.lower()\n",
    "    return trans\n",
    "    \n",
    "    "
   ]
  },
  {
   "cell_type": "code",
   "execution_count": 20,
   "id": "suitable-support",
   "metadata": {},
   "outputs": [],
   "source": [
    "def is_trans(e_w, h_w):\n",
    "    h_latin = get_transliteration(h_w)\n",
    "    score = float(editdistance.eval(h_latin, e_w)/max(len(h_latin), len(e_w)))\n",
    "    return score<=0.5"
   ]
  },
  {
   "cell_type": "code",
   "execution_count": 33,
   "id": "mobile-pittsburgh",
   "metadata": {},
   "outputs": [],
   "source": [
    "data = open(\"data/post_processed_nums.txt\", \"r\").read().split(\"\\n\\n\")\n",
    "new_data = open(\"data/REW_corpus.txt\", \"w\")\n",
    "trans_pairs = []\n",
    "\n",
    "for lines in data:\n",
    "#     print(\"lines: \", lines)\n",
    "    analysis = lines.split('\\n') \n",
    "#     print(\"analysis: \", analysis)\n",
    "    if(len(analysis)<2):\n",
    "        continue\n",
    "    en_sent = analysis[0].split(' ')\n",
    "    hin_sent = analysis[1].split(' ')\n",
    "#     print(\"en sent: \", en_sent)\n",
    "#     print(\"hin sent: \", hin_sent)\n",
    "    new_en_sent = copy.copy(en_sent)\n",
    "    new_hin_sent = copy.copy(hin_sent)\n",
    "    for en_idx, line in enumerate(analysis[3:]):\n",
    "#         print('en idx ', en_idx, \" \", line)\n",
    "        aligns = line.split(\"\\t\")\n",
    "        if len(aligns)<=1:\n",
    "            continue\n",
    "        e_w = aligns[0]\n",
    "        h_idx_list = [int(idx) for idx in aligns[1:]]\n",
    "        for h_idx in h_idx_list:\n",
    "            if(len(e_w)>3 and e_w!='this' and is_trans(e_w, hin_sent[h_idx])):\n",
    "                trans_pairs.append((e_w, hin_sent[h_idx]))\n",
    "                new_en_sent[en_idx] = \"<REW>\"+e_w+\"<REW>\"\n",
    "                new_hin_sent[h_idx] = \"<REW>\"+e_w+\"<REW>\"\n",
    "    print(' '.join(new_en_sent)+\"\\t\"+' '.join(new_hin_sent), file = new_data)\n",
    "            "
   ]
  },
  {
   "cell_type": "code",
   "execution_count": 34,
   "id": "adaptive-times",
   "metadata": {},
   "outputs": [
    {
     "name": "stdout",
     "output_type": "stream",
     "text": [
      "  273885 data/REW_corpus.txt\r\n"
     ]
    }
   ],
   "source": [
    "!wc -l data/REW_corpus.txt"
   ]
  }
 ],
 "metadata": {
  "kernelspec": {
   "display_name": "Python 3",
   "language": "python",
   "name": "python3"
  },
  "language_info": {
   "codemirror_mode": {
    "name": "ipython",
    "version": 3
   },
   "file_extension": ".py",
   "mimetype": "text/x-python",
   "name": "python",
   "nbconvert_exporter": "python",
   "pygments_lexer": "ipython3",
   "version": "3.8.8"
  }
 },
 "nbformat": 4,
 "nbformat_minor": 5
}
