{
 "cells": [
  {
   "cell_type": "code",
   "execution_count": 1,
   "id": "corresponding-happiness",
   "metadata": {},
   "outputs": [],
   "source": [
    "from indic_transliteration import sanscript\n",
    "from indic_transliteration.sanscript import SchemeMap, SCHEMES, transliterate\n",
    "import editdistance\n",
    "import matplotlib.pyplot as plt\n",
    "import copy"
   ]
  },
  {
   "cell_type": "code",
   "execution_count": 2,
   "id": "unusual-ireland",
   "metadata": {},
   "outputs": [],
   "source": [
    "def get_transliteration(s_w):\n",
    "    '''\n",
    "    Transliterates using indic_transliteration, does a little postediting\n",
    "    '''\n",
    "    trans = transliterate(s_w, sanscript.DEVANAGARI, sanscript.OPTITRANS)\n",
    "    trans = trans.rstrip('a')\n",
    "    trans = trans.replace('M','n')\n",
    "    trans = trans.replace('A', 'aa')\n",
    "    trans = trans.lower()\n",
    "    return trans\n",
    "    \n",
    "    "
   ]
  },
  {
   "cell_type": "code",
   "execution_count": 3,
   "id": "suitable-support",
   "metadata": {},
   "outputs": [],
   "source": [
    "def is_trans(e_w, h_w):\n",
    "    h_latin = get_transliteration(h_w)\n",
    "    score = float(editdistance.eval(h_latin, e_w)/max(len(h_latin), len(e_w)))\n",
    "    return score<=0.5"
   ]
  },
  {
   "cell_type": "code",
   "execution_count": 7,
   "id": "mobile-pittsburgh",
   "metadata": {},
   "outputs": [],
   "source": [
    "data = open(\"../data/post_processed_nums.txt\", \"r\").read().split(\"\\n\\n\")\n",
    "new_data = open(\"../data/REW_corpus_no_tags.txt\", \"w\")\n",
    "trans_pairs = []\n",
    "\n",
    "for lines in data:\n",
    "#     print(\"lines: \", lines)\n",
    "    analysis = lines.split('\\n') \n",
    "#     print(\"analysis: \", analysis)\n",
    "    if(len(analysis)<2):\n",
    "        continue\n",
    "    en_sent = analysis[0].split(' ')\n",
    "    hin_sent = analysis[1].split(' ')\n",
    "#     print(\"en sent: \", en_sent)\n",
    "#     print(\"hin sent: \", hin_sent)\n",
    "    new_en_sent = copy.copy(en_sent)\n",
    "    new_hin_sent = copy.copy(hin_sent)\n",
    "    for en_idx, line in enumerate(analysis[3:]):\n",
    "#         print('en idx ', en_idx, \" \", line)\n",
    "        aligns = line.split(\"\\t\")\n",
    "        if len(aligns)<=1:\n",
    "            continue\n",
    "        e_w = aligns[0]\n",
    "        h_idx_list = [int(idx) for idx in aligns[1:]]\n",
    "        for h_idx in h_idx_list:\n",
    "            if(len(e_w)>3 and e_w!='this' and is_trans(e_w, hin_sent[h_idx])):\n",
    "                trans_pairs.append((e_w, hin_sent[h_idx]))\n",
    "#                 new_en_sent[en_idx] = \"<REW>\"+e_w+\"</REW>\"\n",
    "#                 new_hin_sent[h_idx] = \"<REW>\"+e_w+\"</REW>\"\n",
    "                new_en_sent[en_idx] = e_w\n",
    "                new_hin_sent[h_idx] = e_w\n",
    "    print(' '.join(new_en_sent)+\"\\t\"+' '.join(new_hin_sent), file = new_data)\n",
    "            "
   ]
  },
  {
   "cell_type": "code",
   "execution_count": 34,
   "id": "adaptive-times",
   "metadata": {},
   "outputs": [
    {
     "name": "stdout",
     "output_type": "stream",
     "text": [
      "  273885 data/REW_corpus.txt\r\n"
     ]
    }
   ],
   "source": [
    "!wc -l data/REW_corpus.txt"
   ]
  },
  {
   "cell_type": "code",
   "execution_count": 9,
   "id": "improved-pizza",
   "metadata": {},
   "outputs": [
    {
     "name": "stdout",
     "output_type": "stream",
     "text": [
      "<REW>sharaabi</REW>\t<REW>sharaabi</REW>\r\n",
      "politicians do not have permission to do what needs to be done .\tराजनीतिज्ञों के पास जो कार्य करना चाहिए , वह करने कि अनुमति नहीं है .\r\n",
      "i 'd like to tell you about one such child ,\tमई आपको ऐसे ही एक बच्चे के बारे में बताना चाहूंगी ,\r\n",
      "this percentage is even greater than the percentage in india .\tयह प्रतिशत भारत में हिन्दुओं प्रतिशत से अधिक है।\r\n",
      "- <REW>john</REW> <REW>collins</REW>\t- <REW>john</REW> <REW>collins</REW>\r\n"
     ]
    }
   ],
   "source": [
    "!head -n 5 ../data/REW_corpus_tagged.txt"
   ]
  },
  {
   "cell_type": "code",
   "execution_count": null,
   "id": "cultural-wales",
   "metadata": {},
   "outputs": [],
   "source": []
  }
 ],
 "metadata": {
  "kernelspec": {
   "display_name": "Python 3",
   "language": "python",
   "name": "python3"
  },
  "language_info": {
   "codemirror_mode": {
    "name": "ipython",
    "version": 3
   },
   "file_extension": ".py",
   "mimetype": "text/x-python",
   "name": "python",
   "nbconvert_exporter": "python",
   "pygments_lexer": "ipython3",
   "version": "3.8.8"
  }
 },
 "nbformat": 4,
 "nbformat_minor": 5
}
