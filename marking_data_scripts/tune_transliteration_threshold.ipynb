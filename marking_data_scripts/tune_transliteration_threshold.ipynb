{
 "cells": [
  {
   "cell_type": "code",
   "execution_count": 120,
   "id": "useful-rogers",
   "metadata": {},
   "outputs": [],
   "source": [
    "from indic_transliteration import sanscript\n",
    "from indic_transliteration.sanscript import SchemeMap, SCHEMES, transliterate\n",
    "import editdistance\n",
    "import matplotlib.pyplot as plt"
   ]
  },
  {
   "cell_type": "code",
   "execution_count": 121,
   "id": "cooperative-arbor",
   "metadata": {},
   "outputs": [],
   "source": [
    "def get_transliteration(s_w):\n",
    "    '''\n",
    "    Transliterates using indic_transliteration, does a little postediting\n",
    "    '''\n",
    "    trans = transliterate(s_w, sanscript.DEVANAGARI, sanscript.OPTITRANS)\n",
    "    trans = trans.rstrip('a')\n",
    "    trans = trans.replace('M','n')\n",
    "    trans = trans.replace('A', 'aa')\n",
    "    trans = trans.lower()\n",
    "    return trans\n",
    "    \n",
    "    "
   ]
  },
  {
   "cell_type": "code",
   "execution_count": 122,
   "id": "acute-video",
   "metadata": {},
   "outputs": [],
   "source": [
    "def get_editdistance_stats(trans_pairs):\n",
    "    '''\n",
    "    Finds edit_dist/max_edit_dist for each pair, plots histogram of scores\n",
    "    '''\n",
    "    scores = [float((editdistance.eval(pair[0], pair[1]))/max(len(pair[0]), len(pair[1]))) for pair in trans_pairs]\n",
    "    plt.hist(scores,50)\n",
    "    max_score, min_score, mean_score = max(scores), min(scores), sum(scores)/len(scores)\n",
    "    return scores, max_score, min_score, mean_score"
   ]
  },
  {
   "cell_type": "code",
   "execution_count": 123,
   "id": "sharp-watts",
   "metadata": {},
   "outputs": [
    {
     "name": "stdout",
     "output_type": "stream",
     "text": [
      "['हजगिरी', 'चेकॉव', 'स्पिनगार्न', 'मेडल', 'चेत्तिनाद', 'हरी', 'भूमि', 'थॉम्सन', 'हनुमान', 'अभिनेत्री']\n",
      "['hajagiree', 'chekaanv', 'spinagaarn', 'medal', 'chetthinaad', 'hari', 'bhoomi', 'yaanhmsan', 'hanumaan', 'abhinetri']\n"
     ]
    }
   ],
   "source": [
    "#getting gold data\n",
    "corpus = open(\"trans_corpus.txt\",\"r\").read().split(\"\\n\")\n",
    "gold_source = [pair.split(\"\\t\")[1] for pair in corpus]\n",
    "gold_target = [pair.split(\"\\t\")[0] for pair in corpus]\n",
    "print(gold_source[:10])\n",
    "print(gold_target[:10])"
   ]
  },
  {
   "cell_type": "code",
   "execution_count": 124,
   "id": "understood-compilation",
   "metadata": {},
   "outputs": [
    {
     "name": "stdout",
     "output_type": "stream",
     "text": [
      "1.0 0.0 0.29521129270400803\n"
     ]
    },
    {
     "data": {
      "image/png": "[encoded data removed]",
      "text/plain": [
       "<Figure size 432x288 with 1 Axes>"
      ]
     },
     "metadata": {
      "needs_background": "light"
     },
     "output_type": "display_data"
    }
   ],
   "source": [
    "output = [get_transliteration(s_w) for s_w in gold_source]\n",
    "scores, max_score, min_score, mean_score = get_editdistance_stats(list(zip(gold_target, output)))\n",
    "print(max_score, min_score, mean_score)"
   ]
  },
  {
   "cell_type": "code",
   "execution_count": 127,
   "id": "female-killing",
   "metadata": {},
   "outputs": [
    {
     "name": "stdout",
     "output_type": "stream",
     "text": [
      "Missed words:  0.21422347342315168\n"
     ]
    }
   ],
   "source": [
    "bad_pairs = [(gold_target[idx], output[idx]) for idx in range(len(gold_target)) if scores[idx]>=0.5]\n",
    "print(\"Missed words: \", len(bad_pairs)/len(gold_target))\n",
    "# for p in bad_pairs:\n",
    "#     print(p)"
   ]
  },
  {
   "cell_type": "code",
   "execution_count": 126,
   "id": "impressive-syracuse",
   "metadata": {},
   "outputs": [
    {
     "data": {
      "text/plain": [
       "14919"
      ]
     },
     "execution_count": 126,
     "metadata": {},
     "output_type": "execute_result"
    }
   ],
   "source": [
    "len(gold_target)"
   ]
  },
  {
   "cell_type": "code",
   "execution_count": 129,
   "id": "mathematical-feeling",
   "metadata": {},
   "outputs": [
    {
     "name": "stdout",
     "output_type": "stream",
     "text": [
      "1.0 0.0 0.8643102773481814\n",
      "Words that wrongly make it:  0.002681144848850459\n",
      "[('sudip', 'suri'), ('havange', 'apane'), ('ranja', 'fraanja़'), ('kaag', 'kaa'), ('shor', 'phort'), ('laurenishan', 'jankshan'), ('fort', 'phort'), ('fort', 'phort'), ('devnarayan', 'sevaaraam'), ('anoora', 'ankolaa'), ('aatik', 'aataa'), ('samrat', 'saurabh'), ('daarnet', 'haart'), ('saavan', 'daaman'), ('kardiaa', 'raadhikaa'), ('amman', 'amar'), ('shadi', 'shri'), ('kamaal', 'janaral'), ('aagaasoud', 'aazaad'), ('barbara', 'haarbar'), ('mahananda', 'mahamud'), ('dastan', 'dayaan'), ('enis', 'emis'), ('daim', 'daim'), ('gaziabad', 'aazaad'), ('sati', 'ati'), ('niramay', 'horamaz'), ('chirantan', 'chimaa'), ('shahar', 'shatadru'), ('baragaav', 'barataॉn'), ('denis', 'zenos'), ('niyamur', 'iyar'), ('begusaray', 'bezubaan'), ('kunwari', 'yasunaari'), ('gurabchan', 'grahan'), ('prasoon', 'pradyot'), ('aahanith', 'mohanish'), ('hawnking', 'haaiking'), ('kaustav', 'kasam'), ('copran', 'gopan')]\n"
     ]
    },
    {
     "data": {
      "image/png": "[encoded data removed]",
      "text/plain": [
       "<Figure size 432x288 with 1 Axes>"
      ]
     },
     "metadata": {
      "needs_background": "light"
     },
     "output_type": "display_data"
    }
   ],
   "source": [
    "#Seeing what happens with random Hindi and English words\n",
    "random.shuffle(gold_target)\n",
    "random.shuffle(output)\n",
    "scores, max_score, min_score, mean_score = get_editdistance_stats(list(zip(gold_target, output)))\n",
    "print(max_score, min_score, mean_score)\n",
    "bad_pairs = [(gold_target[idx], output[idx]) for idx in range(len(gold_target)) if scores[idx]<0.5]\n",
    "print(\"Words that wrongly make it: \", len(bad_pairs)/len(gold_target))\n",
    "print(bad_pairs)"
   ]
  },
  {
   "cell_type": "code",
   "execution_count": 107,
   "id": "internal-longer",
   "metadata": {},
   "outputs": [
    {
     "name": "stdout",
     "output_type": "stream",
     "text": [
      "[('art', 'aart'), ('sentar', 'sent')]\n"
     ]
    }
   ],
   "source": []
  },
  {
   "cell_type": "code",
   "execution_count": 108,
   "id": "theoretical-paradise",
   "metadata": {},
   "outputs": [
    {
     "name": "stdout",
     "output_type": "stream",
     "text": [
      "marDara\n"
     ]
    }
   ],
   "source": [
    "data = \"मर्डर\"\n",
    "print(transliterate(data, sanscript.DEVANAGARI, sanscript.OPTITRANS))"
   ]
  },
  {
   "cell_type": "code",
   "execution_count": null,
   "id": "republican-pizza",
   "metadata": {},
   "outputs": [],
   "source": []
  }
 ],
 "metadata": {
  "kernelspec": {
   "display_name": "Python 3",
   "language": "python",
   "name": "python3"
  },
  "language_info": {
   "codemirror_mode": {
    "name": "ipython",
    "version": 3
   },
   "file_extension": ".py",
   "mimetype": "text/x-python",
   "name": "python",
   "nbconvert_exporter": "python",
   "pygments_lexer": "ipython3",
   "version": "3.8.8"
  }
 },
 "nbformat": 4,
 "nbformat_minor": 5
}
